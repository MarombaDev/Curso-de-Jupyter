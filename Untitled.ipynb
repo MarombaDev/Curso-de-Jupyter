{
 "cells": [
  {
   "cell_type": "code",
   "execution_count": 3,
   "id": "2557a372",
   "metadata": {},
   "outputs": [
    {
     "name": "stdout",
     "output_type": "stream",
     "text": [
      "Informe um número-9\n",
      "Número negativo\n"
     ]
    }
   ],
   "source": [
    "num1 = int(input('Informe um número'))\n",
    "\n",
    "if num1 > 0:\n",
    "    print('Número positivo')\n",
    "else:\n",
    "    print('Número negativo')\n"
   ]
  },
  {
   "cell_type": "code",
   "execution_count": 3,
   "id": "b4052f12",
   "metadata": {},
   "outputs": [
    {
     "name": "stdout",
     "output_type": "stream",
     "text": [
      "Informe o seu sexo\n",
      "M = Masculino\n",
      "F = Feminino\n",
      "m\n",
      "Sexo Sexo invalido\n"
     ]
    }
   ],
   "source": [
    "\n",
    "estado = input('''Informe o seu sexo\n",
    "M = Masculino\n",
    "F = Feminino\n",
    "''')\n",
    "\n",
    "if estado == 'M':\n",
    "    estado = 'Masculino'\n",
    "    \n",
    "elif estado == 'F':\n",
    "    estado = 'Feminino'\n",
    "\n",
    "\n",
    "else:\n",
    "    estado = 'Sexo invalido'\n",
    "    \n",
    "print(f'Sexo {estado}')\n"
   ]
  },
  {
   "cell_type": "code",
   "execution_count": 6,
   "id": "c076a235",
   "metadata": {},
   "outputs": [
    {
     "name": "stdout",
     "output_type": "stream",
     "text": [
      "Informe a nota do aluno entre 0 e 10 \n",
      "Informe a primeira nota  10\n",
      "Informe a segunda nota  2\n",
      "O aluno foi Reprovado\n"
     ]
    }
   ],
   "source": [
    "print('Informe a nota do aluno entre 0 e 10 ')\n",
    "\n",
    "nota1 = int(input('Informe a primeira nota  '))\n",
    "nota2 = int(input('Informe a segunda nota  '))\n",
    "\n",
    "media = (nota1 + nota2) /2\n",
    "\n",
    "if media == 10:\n",
    "    estado = 'Aprovado com Distinção'\n",
    "    \n",
    "elif media >= 7:\n",
    "    estado = 'Aprovado'\n",
    "\n",
    "else:\n",
    "    estado = 'Reprovado'\n",
    "    \n",
    "print('O aluno foi {}'.format(estado))\n",
    "\n"
   ]
  },
  {
   "cell_type": "code",
   "execution_count": 19,
   "id": "6b852941",
   "metadata": {},
   "outputs": [
    {
     "name": "stdout",
     "output_type": "stream",
     "text": [
      "Informe 3 números inteiros\n",
      "Informe o primeiro número5\n",
      "Informe o segundo número88\n",
      "Informe o terceiro número6\n",
      "88 Maior valor lido\n"
     ]
    }
   ],
   "source": [
    "print('Informe 3 números inteiros')\n",
    "num1 = int(input('Informe o primeiro número'))\n",
    "num2 = int(input('Informe o segundo número'))\n",
    "num3 = int(input('Informe o terceiro número'))\n",
    "\n",
    "if num1 > num2:\n",
    "    if num1 > num3:\n",
    "        print(f'{num1} Maior valor lido')\n",
    "    else:\n",
    "        print(f'{num3} Maior valor lido')\n",
    "\n",
    "elif num2 > num3:\n",
    "    print(f'{num2} Maior valor lido')\n",
    "    \n",
    "else:\n",
    "    print(f'{num3} Maior valor lido')\n"
   ]
  },
  {
   "cell_type": "code",
   "execution_count": 22,
   "id": "487069cd",
   "metadata": {},
   "outputs": [
    {
     "name": "stdout",
     "output_type": "stream",
     "text": [
      "Informe 3 números inteiros\n",
      "Informe o primeiro número8\n",
      "Informe o segundo número99\n",
      "Informe o terceiro número5\n",
      "5 Menor valor lido\n"
     ]
    }
   ],
   "source": [
    "print('Informe 3 números inteiros')\n",
    "num1 = int(input('Informe o primeiro número '))\n",
    "num2 = int(input('Informe o segundo número '))\n",
    "num3 = int(input('Informe o terceiro número '))\n",
    "\n",
    "if num1 < num2:\n",
    "    if num1 < num3:\n",
    "        print(f'{num1} Menor valor lido ')\n",
    "    else:\n",
    "        print(f'{num3} Menor valor lido ')\n",
    "\n",
    "elif num2 < num3:\n",
    "    print(f'{num2} Menor valor lido ')\n",
    "    \n",
    "else:\n",
    "    print(f'{num3} Menor valor lido ')\n"
   ]
  },
  {
   "cell_type": "code",
   "execution_count": 24,
   "id": "a9bf6caa",
   "metadata": {},
   "outputs": [
    {
     "name": "stdout",
     "output_type": "stream",
     "text": [
      "Informe o valor dos produtos\n",
      "Informe o primeiro valor 1500\n",
      "Informe o segundo valor 1890\n",
      "Informe o terceiro valor 1189\n",
      "1189 Recomendação 3º produto teve o menor valor lido \n"
     ]
    }
   ],
   "source": [
    "print('Informe o valor dos produtos')\n",
    "num1 = int(input('Informe o primeiro valor '))\n",
    "num2 = int(input('Informe o segundo valor '))\n",
    "num3 = int(input('Informe o terceiro valor '))\n",
    "\n",
    "if num1 < num2:\n",
    "    if num1 < num3:\n",
    "        print(f'{num1} Recomendação 1º produto teve o menor valor lido ')\n",
    "    else:\n",
    "        print(f'{num3} Recomendação 3º produto teve o menor valor lido ')\n",
    "\n",
    "elif num2 < num3:\n",
    "    print(f'{num2} Recomendação 2º produto teve o menor valor lido ')\n",
    "    \n",
    "else:\n",
    "    print(f'{num3} Recomendação 3º produto teve o menor valor lido ')\n"
   ]
  },
  {
   "cell_type": "code",
   "execution_count": 11,
   "id": "4f9062f8",
   "metadata": {},
   "outputs": [
    {
     "name": "stdout",
     "output_type": "stream",
     "text": [
      "Informe 3 valores inteiros\n",
      "Informe o primeiro valor3\n",
      "Informe o segundo valor5\n",
      "Imforme o terceiro valor7\n",
      "5 3 7 Valores lidos em ordem decrescente\n"
     ]
    }
   ],
   "source": [
    "print('Informe 3 valores inteiros')\n",
    "num1 = int(input('Informe o primeiro valor'))\n",
    "num2 = int(input('Informe o segundo valor'))\n",
    "num3 = int(input('Imforme o terceiro valor'))\n",
    "\n",
    "if num1 < num2:\n",
    "    temp = num1\n",
    "    num1 = num2\n",
    "    num2 = temp\n",
    "    \n",
    "elif num2 < num3:\n",
    "    temp = num2\n",
    "    num2 = num3\n",
    "    num3 = temp\n",
    "    \n",
    "elif num1 < num2:\n",
    "    temp = num1\n",
    "    num1 = num2\n",
    "    num2 = temp\n",
    "    \n",
    "    \n",
    "    \n",
    "    \n",
    "print(f'{num1} {num2} {num3} Valores lidos em ordem decrescente')\n",
    "        \n",
    "    "
   ]
  },
  {
   "cell_type": "code",
   "execution_count": 16,
   "id": "6fb5a4f6",
   "metadata": {},
   "outputs": [
    {
     "name": "stdout",
     "output_type": "stream",
     "text": [
      "Digite o primeiro número: 2\n",
      "Digite o segundo número: 99\n",
      "Digite o terceiro número: 159\n",
      "159 99 2\n"
     ]
    }
   ],
   "source": [
    "num1 = int(input(\"Digite o primeiro número: \"))\n",
    "num2 = int(input(\"Digite o segundo número: \"))\n",
    "num3 = int(input(\"Digite o terceiro número: \"))\n",
    "\n",
    "maior = max(num1, num2, num3) \n",
    "menor = min(num1, num2, num3) \n",
    "meio = (num1 + num2 + num3) - maior - menor  \n",
    "\n",
    "print(maior, meio, menor)  \n"
   ]
  },
  {
   "cell_type": "code",
   "execution_count": 17,
   "id": "494fb74a",
   "metadata": {},
   "outputs": [
    {
     "name": "stdout",
     "output_type": "stream",
     "text": [
      "Informe o número correspondente\n",
      "1 = Domingo\n",
      "2 = Segunda\n",
      "3 = Terca\n",
      "4 = Quarta\n",
      "5 = Quinta\n",
      "6 = Sexta\n",
      "7 = Sabádo\n",
      "7\n",
      "Sabádo\n"
     ]
    }
   ],
   "source": [
    "turno = int(input('''Informe o número correspondente\n",
    "1 = Domingo\n",
    "2 = Segunda\n",
    "3 = Terca\n",
    "4 = Quarta\n",
    "5 = Quinta\n",
    "6 = Sexta\n",
    "7 = Sabádo\n",
    "'''))\n",
    "\n",
    "if turno == 1:\n",
    "    estado = 'Domingo'\n",
    "    \n",
    "elif turno == 2:\n",
    "    estado = 'Segunda'\n",
    "    \n",
    "elif turno == 3:\n",
    "    estado = 'Terça'\n",
    "    \n",
    "elif turno == 4:\n",
    "    estado = 'Quarta'\n",
    "\n",
    "elif turno == 5:\n",
    "    estado = 'Quinta'\n",
    "\n",
    "elif turno == 6:\n",
    "    estado = 'Sexta'\n",
    "\n",
    "elif turno == 7:\n",
    "    estado = 'Sabádo'\n",
    "\n",
    "else:\n",
    "    estado = 'Valor invalido'\n",
    "    \n",
    "print(f'{estado}')\n"
   ]
  },
  {
   "cell_type": "code",
   "execution_count": 23,
   "id": "e206f1cc",
   "metadata": {},
   "outputs": [
    {
     "name": "stdout",
     "output_type": "stream",
     "text": [
      "Informe a nota do aluno entre 0 e 10 \n",
      "Informe a primeira nota  6\n",
      "Informe a segunda nota  5\n",
      "O aluno foi Reprovado conceito D primeira nota 6, segunda nota 5, média 5.5\n"
     ]
    }
   ],
   "source": [
    "print('Informe a nota do aluno entre 0 e 10 ')\n",
    "\n",
    "nota1 = int(input('Informe a primeira nota  '))\n",
    "nota2 = int(input('Informe a segunda nota  '))\n",
    "\n",
    "media = (nota1 + nota2) /2\n",
    "\n",
    "if media > 9:\n",
    "    estado = 'Aprovado conceito A primeira nota {}, segunda nota {}, média {}'.format(nota1, nota2, media)\n",
    "    \n",
    "elif media > 7.5 < 9:\n",
    "    estado = 'Aprovado conceito B primeira nota {}, segunda nota {}, média {}'.format(nota1, nota2, media)\n",
    "\n",
    "elif media >= 6 <= 7.5:\n",
    "    estado = 'Aprovado conceito C primeira nota {}, segunda nota {}, média {}'.format(nota1, nota2, media)\n",
    "\n",
    "elif media > 4 < 6:\n",
    "    estado = 'Reprovado conceito D primeira nota {}, segunda nota {}, média {}'.format(nota1, nota2, media)\n",
    "\n",
    "elif media <= 4:\n",
    "    estado = 'Reprovado conceito E primeira nota {}, segunda nota {}, média {}'.format(nota1, nota2, media)\n",
    "\n",
    "    \n",
    "print('O aluno foi {}'.format(estado))\n"
   ]
  },
  {
   "cell_type": "code",
   "execution_count": 31,
   "id": "0c220878",
   "metadata": {},
   "outputs": [
    {
     "name": "stdout",
     "output_type": "stream",
     "text": [
      "Digite o primeiro lado do triângulo: 5\n",
      "Digite o segundo lado do triângulo: 4\n",
      "Digite o terceiro lado do triângulo: 3\n",
      "Triângulo Escaleno\n"
     ]
    }
   ],
   "source": [
    "lado1 = int(input(\"Digite o primeiro lado do triângulo: \"))\n",
    "lado2 = int(input(\"Digite o segundo lado do triângulo: \"))\n",
    "lado3 = int(input(\"Digite o terceiro lado do triângulo: \"))\n",
    "\n",
    "if lado1 + lado2 > lado3 and lado1 + lado3 > lado2 and lado2 + lado3 > lado1:\n",
    "    # Os lados formam um triângulo\n",
    "    if lado1 == lado2 == lado3:\n",
    "        print(\"Triângulo Equilátero\")\n",
    "    elif lado1 == lado2 or lado1 == lado3 or lado2 == lado3:\n",
    "        print(\"Triângulo Isósceles\")\n",
    "    else:\n",
    "        print(\"Triângulo Escaleno\")\n",
    "else:\n",
    "    # Os lados não formam um triângulo\n",
    "    print(\"Os valores informados não formam um triângulo.\")\n"
   ]
  },
  {
   "cell_type": "code",
   "execution_count": 37,
   "id": "6fd23b98",
   "metadata": {},
   "outputs": [
    {
     "name": "stdout",
     "output_type": "stream",
     "text": [
      "Digite o valor de a: 2\n",
      "Digite o valor de b: 5\n",
      "Digite o valor de c: 7\n",
      "delta é negativo\n"
     ]
    }
   ],
   "source": [
    "import math\n",
    "\n",
    "a = float(input(\"Digite o valor de a: \"))\n",
    "\n",
    "if a == 0:\n",
    "    # Se a é igual a zero\n",
    "    print(\"Não é uma equação do segundo grau.\")\n",
    "else:\n",
    "    b = float(input(\"Digite o valor de b: \"))\n",
    "    c = float(input(\"Digite o valor de c: \"))\n",
    "\n",
    "    delta = b ** 2 - 4 * a * c\n",
    "\n",
    "    if delta < 0:\n",
    "        print('delta é negativo')\n",
    "    elif delta == 0:\n",
    "        # Se delta é igual a zero\n",
    "        x = -b / (2 * a)\n",
    "        print(f\"A equação possui apenas uma raiz real: x = {x:.2f}\")\n",
    "    else:\n",
    "        # Se delta é positivo\n",
    "        x1 = (-b + math.sqrt(delta)) / (2 * a)\n",
    "        x2 = (-b - math.sqrt(delta)) / (2 * a)\n",
    "        print(f\"A equação possui duas raízes reais: x1 = {x1:.2f} e x2 = {x2:.2f}\")\n"
   ]
  },
  {
   "cell_type": "code",
   "execution_count": 42,
   "id": "8e3461d8",
   "metadata": {},
   "outputs": [
    {
     "name": "stdout",
     "output_type": "stream",
     "text": [
      "Equaçao do 2o grau da forma: ax² + bx + c\n",
      "Coeficiente a: 2\n",
      "Coeficiente b: 80\n",
      "Coeficiente c: 4\n",
      "Raizes:  -0.050062656739996214  e  -39.949937343260004\n"
     ]
    }
   ],
   "source": [
    "import math\n",
    "    \n",
    "print('Equaçao do 2o grau da forma: ax² + bx + c')\n",
    "    \n",
    "a = int( input('Coeficiente a: ') )\n",
    "\n",
    "if(a==0):\n",
    "        print('Se a=0, não é equação do segundo grau.')\n",
    "else:\n",
    "    b = int( input('Coeficiente b: ') )\n",
    "    c = int( input('Coeficiente c: ') )\n",
    "    delta = b*b - (4*a*c)\n",
    "\n",
    "    if delta<0:\n",
    "        print('Delta menor que 0. Raízes imaginárias.')\n",
    "    elif delta==0:\n",
    "        raiz = -b / (2*a)\n",
    "        print('Delta=0 , raiz = ',raiz)\n",
    "    else:\n",
    "        raiz1 = (-b + math.sqrt(delta) ) / (2*a)\n",
    "        raiz2 = (-b - math.sqrt(delta) ) / (2*a)\n",
    "        print('Raizes: ',raiz1,' e ',raiz2)"
   ]
  },
  {
   "cell_type": "code",
   "execution_count": 45,
   "id": "eb1f85c9",
   "metadata": {},
   "outputs": [
    {
     "name": "stdout",
     "output_type": "stream",
     "text": [
      "Digite o valor de a (x²): 2\n",
      "Digite o valor de b (x): 80\n",
      "Digite o valor de c: 4\n",
      "O valor de deltá é 6368.00\n",
      "A equação possui duas raízes reaism, sendo elas: -0.050062656739996214 e -39.949937343260004\n"
     ]
    }
   ],
   "source": [
    "a = float(input(\"Digite o valor de a (x²): \"))\n",
    "if (a == 0):\n",
    "    print(\"Não é uma equação do segundo grau\")\n",
    "else:\n",
    "    b = float(input(\"Digite o valor de b (x): \"))\n",
    "    c = float(input(\"Digite o valor de c: \"))\n",
    "\n",
    "    delta = (b ** 2) - (4 * a * c)\n",
    "    raiz_1 = ((-(b)) + (delta) ** 0.5) / (2 * a)\n",
    "    raiz_2 = ((-(b)) - ((delta) ** 0.5)) / (2 * a)\n",
    "    raiz_3 = (raiz_1 == raiz_2)\n",
    "\n",
    "    print(\"O valor de deltá é {:.2f}\".format(delta))\n",
    "\n",
    "if (delta == 0):\n",
    "    print(f\"A equação possui apenas uma raíz real, sendo ela = {raiz_1}\")\n",
    "elif (delta >= 1):\n",
    "    print(f\"A equação possui duas raízes reaism, sendo elas: {raiz_1} e {raiz_2}\")\n",
    "else:\n",
    "    print (\"A equação não possui raízes\")"
   ]
  },
  {
   "cell_type": "code",
   "execution_count": 1,
   "id": "9deacf7b",
   "metadata": {},
   "outputs": [
    {
     "name": "stdout",
     "output_type": "stream",
     "text": [
      "Informe 2 valores inteiros\n",
      "Informe o primeiro valor2\n",
      "Informe o segundo valor9\n",
      "X=2 Y=9\n",
      "X=9 Y=2\n"
     ]
    }
   ],
   "source": [
    "print('Informe 2 valores inteiros')\n",
    "x = int(input('Informe o primeiro valor'))\n",
    "y = int(input('Informe o segundo valor'))\n",
    "\n",
    "if x != y:\n",
    "    print(f'X={x} Y={y}')\n",
    "    temp = x\n",
    "    x = y\n",
    "    y = temp\n",
    "    print(f'X={x} Y={y}')"
   ]
  },
  {
   "cell_type": "code",
   "execution_count": 11,
   "id": "958b39ff",
   "metadata": {},
   "outputs": [
    {
     "name": "stdout",
     "output_type": "stream",
     "text": [
      "Informe sua idade68\n",
      "Não está apto a doar sangue\n"
     ]
    }
   ],
   "source": [
    "idade = int(input('Informe sua idade'))\n",
    "\n",
    "if idade >= 18 and idade <= 67:\n",
    "    print('Está apto a doar sangue')\n",
    "else:\n",
    "    print('Não está apto a doar sangue')\n"
   ]
  },
  {
   "cell_type": "code",
   "execution_count": null,
   "id": "9180d0e2",
   "metadata": {},
   "outputs": [],
   "source": []
  }
 ],
 "metadata": {
  "kernelspec": {
   "display_name": "Python 3 (ipykernel)",
   "language": "python",
   "name": "python3"
  },
  "language_info": {
   "codemirror_mode": {
    "name": "ipython",
    "version": 3
   },
   "file_extension": ".py",
   "mimetype": "text/x-python",
   "name": "python",
   "nbconvert_exporter": "python",
   "pygments_lexer": "ipython3",
   "version": "3.9.13"
  }
 },
 "nbformat": 4,
 "nbformat_minor": 5
}
