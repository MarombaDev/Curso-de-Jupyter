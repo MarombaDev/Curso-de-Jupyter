{
 "cells": [
  {
   "cell_type": "markdown",
   "metadata": {},
   "source": [
    "# Exercícios\n",
    "\n",
    "## 1. Criando um Registro de Hóspedes\n",
    "\n",
    "Digamos que você está criando o sistema para registrar a chegada de hóspedes em um hotel. No hotel, os hóspedes podem ter quartos com 1, 2, 3 e 4 pessoas. Seu sistema deve conseguir:\n",
    "\n",
    "1. Identificar quantas pessoas o hóspede que acabou de chegar vai ter no quarto (perguntando por meio de input)\n",
    "2. De acordo com a quantidade de pessoas do hóspede, ele deve fazer um for para perguntar o cpf e o nome de cada pessoa, a fim de registrá-la no quarto (2 inputs para cada pessoa, 1 para o cpf e outro para o nome)\n",
    "3. O seu programa então deve gerar uma lista com todas as pessoas que ficarão no quarto em que cada item dessa lista é o nome da pessoa e o cpf da pessoa, assim:"
   ]
  },
  {
   "cell_type": "raw",
   "metadata": {},
   "source": [
    "quarto = [\n",
    "    ['João', 'cpf:00000000000'],\n",
    "    ['Julia', 'cpf:11111111111'],\n",
    "    ['Marcus', 'cpf:22222222222'],\n",
    "    ['Maria', 'cpf:33333333333'],\n",
    "]"
   ]
  },
  {
   "cell_type": "markdown",
   "metadata": {},
   "source": [
    "- Para simplificar, não vamos nos preocupar com possibilidades de \"tentar colocar mais de 1 hóspede, digitar o cpf errado, etc. Nosso objetivo é treinar a criação de uma rotina de cadastro"
   ]
  },
  {
   "cell_type": "code",
   "execution_count": 3,
   "metadata": {},
   "outputs": [
    {
     "name": "stdout",
     "output_type": "stream",
     "text": [
      "Quantas pessoas vão se hospedar no quarto?2\n",
      "Qual nome?Pedro\n",
      "Qual cpf?55566644488\n",
      "[['Pedro', 'cpf:55566644488']]\n",
      "Qual nome?Elisabete\n",
      "Qual cpf?66655588899\n",
      "[['Pedro', 'cpf:55566644488'], ['Elisabete', 'cpf:66655588899']]\n"
     ]
    }
   ],
   "source": [
    "#seu código aqui\n",
    "\n",
    "qtd = int(input('Quantas pessoas vão se hospedar no quarto?'))\n",
    "quarto = []\n",
    "\n",
    "for i in range(qtd):\n",
    "    nome = input('Qual nome?')\n",
    "    cpf = input('Qual cpf?')\n",
    "    hospedes = [nome, 'cpf:{}'.format(cpf)]\n",
    "    quarto.append(hospedes)\n",
    "    print(quarto)"
   ]
  },
  {
   "cell_type": "markdown",
   "metadata": {},
   "source": [
    "## 2. Análise de Vendas\n",
    "\n",
    "Nesse exercício vamos fazer uma \"análise simples\" de atingimento de Meta.\n",
    "\n",
    "Temos uma lista com os vendedores e os valores de vendas e queremos identificar (printar) quais os vendedores que bateram a meta e qual foi o valor que eles venderam."
   ]
  },
  {
   "cell_type": "code",
   "execution_count": 7,
   "metadata": {},
   "outputs": [
    {
     "name": "stdout",
     "output_type": "stream",
     "text": [
      "Vendedor João bateu a meta e fez 15,000 vendas.\n",
      "Vendedor Julia bateu a meta e fez 27,000 vendas.\n",
      "Vendedor Ana bateu a meta e fez 10,300 vendas.\n"
     ]
    }
   ],
   "source": [
    "meta = 10000\n",
    "vendas = [\n",
    "    ['João', 15000],\n",
    "    ['Julia', 27000],\n",
    "    ['Marcus', 9900],\n",
    "    ['Maria', 3750],\n",
    "    ['Ana', 10300],\n",
    "    ['Alon', 7870],\n",
    "]\n",
    "#seu código aqui\n",
    "\n",
    "for item in vendas:\n",
    "    if item[1] >= meta:\n",
    "        print('Vendedor {} bateu a meta e fez {:,} vendas.'.format(item[0],item[1]))"
   ]
  },
  {
   "cell_type": "markdown",
   "metadata": {},
   "source": [
    "## 3. Comparação com Ano Anterior\n",
    "\n",
    "Digamos que você está analisando as vendas de produtos de um ecommerce e quer identificar quais produtos tiveram no ano de 2020 mais vendas do que no ano de 2019, para reportar isso para a diretoria.\n",
    "\n",
    "Sua resposta pode ser um print de cada produto, qual foi a venda de 2019, a venda de 2020 e o % de crescimento de 2020 para 2019.\n",
    "\n",
    "Lembrando, para calcular o % de crescimento de um produto de um ano para o outro, podemos fazer: (vendas_produto2020/vendas_produto2019 - 1)\n",
    "\n",
    "Dica: lembre do enumerate, ele pode facilitar seu \"for\""
   ]
  },
  {
   "cell_type": "code",
   "execution_count": 8,
   "metadata": {},
   "outputs": [
    {
     "name": "stdout",
     "output_type": "stream",
     "text": [
      "iphone vendeu R$558,147 em 2019, 951642 em 2020 e teve um R$0.7050024455922903 de variação\n",
      "tv vendeu R$405,252 em 2019, 787604 em 2020 e teve um R$0.9434919506874735 de variação\n",
      "máquina de café vendeu R$718,654 em 2019, 867660 em 2020 e teve um R$0.20734038911632013 de variação\n",
      "notebook dell vendeu R$422,760 em 2019, 694913 em 2020 e teve um R$0.6437529567603368 de variação\n",
      "notebook hp vendeu R$154,753 em 2019, 539704 em 2020 e teve um R$2.487518820313661 de variação\n",
      "microsoft surface vendeu R$438,508 em 2019, 667179 em 2020 e teve um R$0.5214750928147263 de variação\n",
      "webcam vendeu R$237,467 em 2019, 295633 em 2020 e teve um R$0.2449435079400506 de variação\n",
      "caixa de som vendeu R$489,705 em 2019, 725316 em 2020 e teve um R$0.4811284344656477 de variação\n",
      "microfone vendeu R$328,311 em 2019, 644622 em 2020 e teve um R$0.963449290459351 de variação\n",
      "câmera canon vendeu R$591,120 em 2019, 994303 em 2020 e teve um R$0.6820662471241035 de variação\n"
     ]
    }
   ],
   "source": [
    "produtos = ['iphone', 'galaxy', 'ipad', 'tv', 'máquina de café', 'kindle', 'geladeira', 'adega', 'notebook dell', 'notebook hp', 'notebook asus', 'microsoft surface', 'webcam', 'caixa de som', 'microfone', 'câmera canon']\n",
    "vendas2019 = [558147,712350,573823,405252,718654,531580,973139,892292,422760,154753,887061,438508,237467,489705,328311,591120]\n",
    "vendas2020 = [951642,244295,26964,787604,867660,78830,710331,646016,694913,539704,324831,667179,295633,725316,644622,994303]\n",
    "#seu código aqui\n",
    "\n",
    "for i, produto in enumerate(produtos):\n",
    "    if vendas2020[i] > vendas2019[i]:\n",
    "        crescimento = vendas2020[i] / vendas2019[i] - 1\n",
    "        print('{} vendeu R${:,} em 2019, {} em 2020 e teve um R${:,} de variação'.format(produto, vendas2019[i], vendas2020[i], crescimento))"
   ]
  },
  {
   "cell_type": "code",
   "execution_count": null,
   "metadata": {},
   "outputs": [],
   "source": []
  }
 ],
 "metadata": {
  "kernelspec": {
   "display_name": "Python 3 (ipykernel)",
   "language": "python",
   "name": "python3"
  },
  "language_info": {
   "codemirror_mode": {
    "name": "ipython",
    "version": 3
   },
   "file_extension": ".py",
   "mimetype": "text/x-python",
   "name": "python",
   "nbconvert_exporter": "python",
   "pygments_lexer": "ipython3",
   "version": "3.9.13"
  }
 },
 "nbformat": 4,
 "nbformat_minor": 4
}
