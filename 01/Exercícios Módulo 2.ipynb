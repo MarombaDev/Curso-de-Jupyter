{
 "cells": [
  {
   "cell_type": "markdown",
   "id": "bb0f9514",
   "metadata": {},
   "source": [
    "# Lista de Estrutura Sequencial"
   ]
  },
  {
   "cell_type": "markdown",
   "id": "4e7a8c30",
   "metadata": {},
   "source": [
    "#### 1. Faça um Programa que mostre a mensagem (print) \"Alo mundo\" na tela."
   ]
  },
  {
   "cell_type": "code",
   "execution_count": 1,
   "id": "883bfe85",
   "metadata": {},
   "outputs": [
    {
     "name": "stdout",
     "output_type": "stream",
     "text": [
      "Alo Mundo\n"
     ]
    }
   ],
   "source": [
    "print('Alo Mundo')"
   ]
  },
  {
   "cell_type": "markdown",
   "id": "71d6d6a2",
   "metadata": {},
   "source": [
    "#### 2. Faça um Programa que peça um número (input) e então mostre a mensagem: \"O número informado foi [número].\""
   ]
  },
  {
   "cell_type": "code",
   "execution_count": 2,
   "id": "30cfffcf",
   "metadata": {},
   "outputs": [
    {
     "name": "stdout",
     "output_type": "stream",
     "text": [
      "Informe um número5\n",
      "O número informado foi 5\n"
     ]
    }
   ],
   "source": [
    "numero = input('Informe um número')\n",
    "print(f'O número informado foi {numero}')"
   ]
  },
  {
   "cell_type": "markdown",
   "id": "c5e43160",
   "metadata": {},
   "source": [
    "#### 3. Faça um Programa que peça dois números e imprima a soma."
   ]
  },
  {
   "cell_type": "code",
   "execution_count": 4,
   "id": "b0e79590",
   "metadata": {},
   "outputs": [
    {
     "name": "stdout",
     "output_type": "stream",
     "text": [
      "Informe um número 2\n",
      "Informe outro número 5\n",
      "A soma dos números informados é 7.0\n"
     ]
    }
   ],
   "source": [
    "numero1 = float(input('Informe um número '))\n",
    "numero2 = float(input('Informe outro número '))\n",
    "soma = numero1 + numero2\n",
    "print(f'A soma dos números informados é {soma}')"
   ]
  },
  {
   "cell_type": "markdown",
   "id": "17826987",
   "metadata": {},
   "source": [
    "#### 4. Faça um Programa que peça as 4 notas bimestrais de um aluno e mostre a média de todas as notas."
   ]
  },
  {
   "cell_type": "code",
   "execution_count": 6,
   "id": "23b66762",
   "metadata": {},
   "outputs": [
    {
     "name": "stdout",
     "output_type": "stream",
     "text": [
      "Informe a primeira nota: 10\n",
      "Informe a segunda nota: 10\n",
      "Informe a terceira nota: 8\n",
      "Informe a quarta nota: 5\n",
      "8.25\n"
     ]
    }
   ],
   "source": [
    "nota1 = float(input('Informe a primeira nota: '))\n",
    "nota2 = float(input('Informe a segunda nota: '))\n",
    "nota3 = float(input('Informe a terceira nota: '))\n",
    "nota4 = float(input('Informe a quarta nota: '))\n",
    "media = (nota1 + nota2 + nota3 + nota4) / 4\n",
    "print (media)"
   ]
  },
  {
   "cell_type": "markdown",
   "id": "62d461c5",
   "metadata": {},
   "source": [
    "#### 5. Faça um Programa que converta metros para centímetros. Você pode pedir o comprimento em metros para o usuário (input)."
   ]
  },
  {
   "cell_type": "code",
   "execution_count": 7,
   "id": "d642f1ba",
   "metadata": {},
   "outputs": [
    {
     "name": "stdout",
     "output_type": "stream",
     "text": [
      "Informe a medida em metros: 1\n",
      "100.0\n"
     ]
    }
   ],
   "source": [
    "metros = float(input('Informe a medida em metros: '))\n",
    "cm = metros * 100\n",
    "print(cm)"
   ]
  },
  {
   "cell_type": "markdown",
   "id": "f1311697",
   "metadata": {},
   "source": [
    "#### 7. Faça um Programa que calcule a área de uma sala de um apartamento. Para isso, o seu programa precisa pedir a largura da sala, o comprimento da sala e imprimir a área em m² da sala."
   ]
  },
  {
   "cell_type": "code",
   "execution_count": 8,
   "id": "612ea24b",
   "metadata": {},
   "outputs": [
    {
     "name": "stdout",
     "output_type": "stream",
     "text": [
      "Informe a largura da sala:2\n",
      "Informe o comprimento da sala: 2\n",
      "A medida da sala é 4.0m²\n"
     ]
    }
   ],
   "source": [
    "largura = float(input('Informe a largura da sala:'))\n",
    "comprimento = float(input('Informe o comprimento da sala: '))\n",
    "quadrado = largura * comprimento\n",
    "print(f'A medida da sala é {quadrado}m²')"
   ]
  },
  {
   "cell_type": "markdown",
   "id": "2a285929",
   "metadata": {},
   "source": [
    "#### 8. Faça um Programa que pergunte quanto você ganha por hora e o número de horas trabalhadas no mês. Calcule e mostre o total do seu salário no referido mês."
   ]
  },
  {
   "cell_type": "code",
   "execution_count": 9,
   "id": "359e2232",
   "metadata": {},
   "outputs": [
    {
     "name": "stdout",
     "output_type": "stream",
     "text": [
      "Quanto você ganhar por hora? 15\n",
      "Quantas horas trabalha no mês? 280\n",
      "Seu salario é de R$4200.0\n"
     ]
    }
   ],
   "source": [
    "hrs = float(input('Quanto você ganhar por hora? '))\n",
    "vlr = float(input('Quantas horas trabalha no mês? '))\n",
    "salario = hrs * vlr\n",
    "print(f'Seu salario é de R${salario}')"
   ]
  },
  {
   "cell_type": "markdown",
   "id": "7e2d4615",
   "metadata": {},
   "source": [
    "#### 9. Vamos criar um conversor de temperatura. Faça um Programa que peça a temperatura em graus Fahrenheit, transforme e mostre a temperatura em graus Celsius.\n",
    "$C = \\frac{5}{9}(F-32)$"
   ]
  },
  {
   "cell_type": "code",
   "execution_count": 11,
   "id": "82daf9fd",
   "metadata": {},
   "outputs": [
    {
     "name": "stdout",
     "output_type": "stream",
     "text": [
      "Informe a temperatura em Fahrenheit: 80\n",
      "26.666666666666668\n"
     ]
    }
   ],
   "source": [
    "faren = float(input('Informe a temperatura em Fahrenheit: '))\n",
    "celsius = (faren - 32) * 5/9\n",
    "print(celsius)"
   ]
  },
  {
   "cell_type": "markdown",
   "id": "20708b1c",
   "metadata": {},
   "source": [
    "#### 10. Faça um Programa que peça a temperatura em graus Celsius, transforme e mostre em graus Fahrenheit.\n",
    "$F = \\frac{9}{5}C + 32$"
   ]
  },
  {
   "cell_type": "code",
   "execution_count": 13,
   "id": "c73cfb38",
   "metadata": {},
   "outputs": [
    {
     "name": "stdout",
     "output_type": "stream",
     "text": [
      "Informe a temperatura em Celsius: 26.666\n",
      "79.9988\n"
     ]
    }
   ],
   "source": [
    "celsius = float(input('Informe a temperatura em Celsius: '))\n",
    "faren = (celsius * 9/5) + 32\n",
    "print(faren)"
   ]
  },
  {
   "cell_type": "markdown",
   "id": "b263a9dc",
   "metadata": {},
   "source": [
    "#### 12. Tendo como dados de entrada a altura (h) de uma pessoa, construa um algoritmo que calcule seu peso ideal, usando a seguinte fórmula:\n",
    "$P = 72,7h - 58$\n",
    "\n",
    "Lembrando que \"algoritmo\" nada mais é do que um programa, como todos os outros que você vem fazendo"
   ]
  },
  {
   "cell_type": "code",
   "execution_count": 15,
   "id": "9a9b8dca",
   "metadata": {},
   "outputs": [
    {
     "name": "stdout",
     "output_type": "stream",
     "text": [
      "Informe a altura: 1.72\n",
      "O seu peso ideal é de 67.044\n"
     ]
    }
   ],
   "source": [
    "h = float(input('Informe a altura: '))\n",
    "p = 72.7 * h - 58\n",
    "print(f'O seu peso ideal é de {p}')"
   ]
  },
  {
   "cell_type": "markdown",
   "id": "13bb40d7",
   "metadata": {},
   "source": [
    "#### 13. Tendo como dado de entrada a altura (h) de uma pessoa, construa um algoritmo que calcule seu peso ideal, utilizando as seguintes fórmulas:\n",
    "##### a. Para homens: $P = 72,7h - 58$\n",
    "##### b. Para mulheres: $P = 62,1h - 44,7$"
   ]
  },
  {
   "cell_type": "code",
   "execution_count": null,
   "id": "bf82dc8c",
   "metadata": {},
   "outputs": [],
   "source": [
    "h = float(input('Informe a altura: '))\n",
    "ph = 72.7 * h - 58\n",
    "pm = 72.7 * h - 44.7\n",
    "print(f'O seu peso ideal masculino referente essa altura é:  {ph}')\n",
    "print(f'O seu peso ideal feminino referente essa altura é:  {pm}')"
   ]
  },
  {
   "cell_type": "markdown",
   "id": "f208ef89",
   "metadata": {},
   "source": [
    "#### 15. Faça um Programa que pergunte quanto você ganha por hora e o número de horas trabalhadas no mês."
   ]
  },
  {
   "cell_type": "code",
   "execution_count": 17,
   "id": "2d5b23e0",
   "metadata": {},
   "outputs": [
    {
     "name": "stdout",
     "output_type": "stream",
     "text": [
      "Quanto você ganhar por hora? 15\n",
      "Quantas horas trabalha no mês? 280\n",
      "Você trabalha 15.0 horas e recebe R$280.0 por hora\n"
     ]
    }
   ],
   "source": [
    "hrs = float(input('Quanto você ganhar por hora? '))\n",
    "vlr = float(input('Quantas horas trabalha no mês? '))\n",
    "print(f'Você trabalha {hrs} horas e recebe R${vlr} por hora')"
   ]
  },
  {
   "cell_type": "markdown",
   "id": "607dee3c",
   "metadata": {},
   "source": [
    "#####  Calcule o salário bruto (horas * salario por hora)"
   ]
  },
  {
   "cell_type": "code",
   "execution_count": 18,
   "id": "7f80ccbb",
   "metadata": {},
   "outputs": [
    {
     "name": "stdout",
     "output_type": "stream",
     "text": [
      "Seu salario é de R$4200.0\n"
     ]
    }
   ],
   "source": [
    "salario = hrs * vlr\n",
    "print(f'Seu salario é de R${salario}')"
   ]
  },
  {
   "cell_type": "markdown",
   "id": "2ed93cb0",
   "metadata": {},
   "source": [
    "##### Calcule o desconto do IR (11% do salário bruto)"
   ]
  },
  {
   "cell_type": "code",
   "execution_count": 27,
   "id": "3363e22f",
   "metadata": {},
   "outputs": [
    {
     "name": "stdout",
     "output_type": "stream",
     "text": [
      "462.0\n",
      "Seu salario descontado o ir é de R$3738.0\n"
     ]
    }
   ],
   "source": [
    "ir = salario * 0.11\n",
    "print(ir)\n",
    "salario_ir = salario - ir\n",
    "print(f'Seu salario descontado o ir é de R${salario_ir}')"
   ]
  },
  {
   "cell_type": "markdown",
   "id": "0994b2c0",
   "metadata": {},
   "source": [
    "##### Calcule o desconto do INSS (8% do salário bruto)"
   ]
  },
  {
   "cell_type": "code",
   "execution_count": 28,
   "id": "748c6088",
   "metadata": {},
   "outputs": [
    {
     "name": "stdout",
     "output_type": "stream",
     "text": [
      "336.0\n",
      "Seu salario descontado o inss é de R$3864.0\n"
     ]
    }
   ],
   "source": [
    "inss = salario * 0.08\n",
    "print(inss)\n",
    "salario_inss = salario - inss\n",
    "print(f'Seu salario descontado o inss é de R${salario_inss}')"
   ]
  },
  {
   "cell_type": "markdown",
   "id": "06e8dae4",
   "metadata": {},
   "source": [
    "##### Calcule o desconto do sindicato (5% do salário bruto)"
   ]
  },
  {
   "cell_type": "code",
   "execution_count": 29,
   "id": "21b95b15",
   "metadata": {
    "scrolled": true
   },
   "outputs": [
    {
     "name": "stdout",
     "output_type": "stream",
     "text": [
      "210.0\n",
      "Seu salario descontado o sindicato é de R$3990.0\n"
     ]
    }
   ],
   "source": [
    "sindicato = salario * 0.05\n",
    "print(sindicato)\n",
    "salario_sindicato = salario - sindicato\n",
    "print(f'Seu salario descontado o sindicato é de R${salario_sindicato}')"
   ]
  },
  {
   "cell_type": "markdown",
   "id": "bb14ce36",
   "metadata": {},
   "source": [
    "##### Calcule o salário líquido (salário bruto - descontos)"
   ]
  },
  {
   "cell_type": "code",
   "execution_count": 26,
   "id": "56317086",
   "metadata": {},
   "outputs": [
    {
     "name": "stdout",
     "output_type": "stream",
     "text": [
      "Seu salario liquido é de:3192.0 \n"
     ]
    }
   ],
   "source": [
    "salario_liquido = salario - sindicato - inss - ir\n",
    "print(f'Seu salario liquido é de:{salario_liquido} ')"
   ]
  },
  {
   "cell_type": "markdown",
   "id": "cfbfcc87",
   "metadata": {},
   "source": [
    "#### 16. Faça um programa para uma loja de tintas. O programa deverá pedir o tamanho em metros quadrados da área a ser pintada. Considere que a cobertura da tinta é de 1 litro para cada 3 metros quadrados e que a tinta é vendida em latas de 18 litros, que custam R\\$ 80,00. Informe ao usuário a quantidades de latas de tinta a serem compradas e o preço total. (para simplificação nesse momento, não se preocupe em arredondar a quantidade de latas a serem compradas - vamos trabalhar isso em breve)"
   ]
  },
  {
   "cell_type": "code",
   "execution_count": 32,
   "id": "fb6a083b",
   "metadata": {},
   "outputs": [
    {
     "name": "stdout",
     "output_type": "stream",
     "text": [
      "Qual o tamanho da area a ser pintada em m²? 90\n",
      "30.0 litros de tinta\n",
      "1.6666666666666667latas, e o custo é de 133.33333333333334\n"
     ]
    }
   ],
   "source": [
    "area = float(input('Qual o tamanho da area a ser pintada em m²? '))\n",
    "litros = area / 3\n",
    "print(f'{litros} litros de tinta')\n",
    "latas = litros / 18\n",
    "custo = latas * 80\n",
    "print(f'{latas} latas, e o custo é de {custo}')\n"
   ]
  },
  {
   "cell_type": "markdown",
   "id": "d6503c92",
   "metadata": {},
   "source": [
    "#### 18. Faça um programa que peça o tamanho de um arquivo para download (em MB) e a velocidade de um link de Internet (em Mbps), calcule e informe o tempo aproximado de download do arquivo usando este link (em minutos).\n",
    "\n",
    "Detalhe: MB significa megabyte, Mb (com b minúsculo) significa megabit. Um megabit é 1/8 de um megabyte. "
   ]
  },
  {
   "cell_type": "code",
   "execution_count": 38,
   "id": "0563aa62",
   "metadata": {},
   "outputs": [
    {
     "name": "stdout",
     "output_type": "stream",
     "text": [
      "Qual o tamanho do arquivo em MB?100\n",
      "Qual a velocidade da intert em Mbps?1\n",
      "O tempo de dawload é de 13.333333333333334 minutos\n"
     ]
    }
   ],
   "source": [
    "mb = float(input('Qual o tamanho do arquivo em MB?'))\n",
    "mbps = float(input('Qual a velocidade da intert em Mbps?'))\n",
    "mbconvertido = mb * 8\n",
    "tempo = mbconvertido / mbps\n",
    "minutos = tempo / 60\n",
    "print (f'O tempo de dawload é de {minutos} minutos')"
   ]
  },
  {
   "cell_type": "code",
   "execution_count": null,
   "id": "71236697",
   "metadata": {},
   "outputs": [],
   "source": []
  },
  {
   "cell_type": "code",
   "execution_count": null,
   "id": "f0a15aa3",
   "metadata": {},
   "outputs": [],
   "source": []
  }
 ],
 "metadata": {
  "kernelspec": {
   "display_name": "Python 3 (ipykernel)",
   "language": "python",
   "name": "python3"
  },
  "language_info": {
   "codemirror_mode": {
    "name": "ipython",
    "version": 3
   },
   "file_extension": ".py",
   "mimetype": "text/x-python",
   "name": "python",
   "nbconvert_exporter": "python",
   "pygments_lexer": "ipython3",
   "version": "3.9.13"
  }
 },
 "nbformat": 4,
 "nbformat_minor": 5
}
