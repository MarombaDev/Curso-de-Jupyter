{
 "cells": [
  {
   "cell_type": "markdown",
   "id": "8ceeab2b",
   "metadata": {},
   "source": [
    "My Frist Code\n"
   ]
  },
  {
   "cell_type": "markdown",
   "id": "995dd452",
   "metadata": {},
   "source": [
    "print(1 + 1) //Operações basicas ele aceita direto entre aspas vira string\n",
    "print(2 ** 3) //potenciação\n",
    "print(7 % 3) //Mod (resto da divissão)"
   ]
  },
  {
   "cell_type": "code",
   "execution_count": 4,
   "id": "14c53e18",
   "metadata": {},
   "outputs": [
    {
     "name": "stdout",
     "output_type": "stream",
     "text": [
      "2\n",
      "8\n"
     ]
    }
   ],
   "source": [
    "print(1 + 1)\n",
    "print(2 ** 3)"
   ]
  },
  {
   "cell_type": "markdown",
   "id": "a98468e4",
   "metadata": {},
   "source": [
    "Soma em string concatena "
   ]
  },
  {
   "cell_type": "code",
   "execution_count": 5,
   "id": "d93d1f62",
   "metadata": {},
   "outputs": [
    {
     "name": "stdout",
     "output_type": "stream",
     "text": [
      "Meu nome é Pedro\n"
     ]
    }
   ],
   "source": [
    "print('Meu nome é' + 'Pedro')"
   ]
  },
  {
   "cell_type": "markdown",
   "id": "3374296f",
   "metadata": {},
   "source": [
    "opera IN verifica se um texto esta contido dentro do outro, faz case Sensitive diferencia maisculo de minusculo"
   ]
  },
  {
   "cell_type": "code",
   "execution_count": 7,
   "id": "69d33af4",
   "metadata": {},
   "outputs": [
    {
     "name": "stdout",
     "output_type": "stream",
     "text": [
      "False\n",
      "True\n"
     ]
    }
   ],
   "source": [
    "print ('Meu nome é' in 'Pedro')\n",
    "print('P' in 'Pedro')"
   ]
  },
  {
   "cell_type": "markdown",
   "id": "5d8bcf26",
   "metadata": {},
   "source": [
    "Definição de variáveis"
   ]
  },
  {
   "cell_type": "code",
   "execution_count": 11,
   "id": "4d81d962",
   "metadata": {},
   "outputs": [
    {
     "name": "stdout",
     "output_type": "stream",
     "text": [
      "1500\n",
      "Pedro\n",
      "1100\n"
     ]
    }
   ],
   "source": [
    "qnt_vendas = 1500\n",
    "nome = 'Pedro'\n",
    "custo = 400\n",
    "print(qnt_vendas)\n",
    "print(nome)\n",
    "print(qnt_vendas - custo)"
   ]
  },
  {
   "cell_type": "markdown",
   "id": "cab32555",
   "metadata": {},
   "source": [
    "Coletando inputs e armazenando em variaveis"
   ]
  },
  {
   "cell_type": "code",
   "execution_count": 16,
   "id": "2a38ebbd",
   "metadata": {},
   "outputs": [
    {
     "name": "stdout",
     "output_type": "stream",
     "text": [
      "Qual seu nome?Pedro\n",
      "Qual seu sobrenome?Henrique\n",
      "Bem vindo Pedro Henrique\n"
     ]
    }
   ],
   "source": [
    "nome = input('Qual seu nome?')\n",
    "sobrenome = input('Qual seu sobrenome?')\n",
    "print('Bem vindo', nome + ' ' + sobrenome)"
   ]
  },
  {
   "cell_type": "code",
   "execution_count": null,
   "id": "db1f034a",
   "metadata": {},
   "outputs": [],
   "source": []
  }
 ],
 "metadata": {
  "kernelspec": {
   "display_name": "Python 3 (ipykernel)",
   "language": "python",
   "name": "python3"
  },
  "language_info": {
   "codemirror_mode": {
    "name": "ipython",
    "version": 3
   },
   "file_extension": ".py",
   "mimetype": "text/x-python",
   "name": "python",
   "nbconvert_exporter": "python",
   "pygments_lexer": "ipython3",
   "version": "3.9.13"
  }
 },
 "nbformat": 4,
 "nbformat_minor": 5
}
